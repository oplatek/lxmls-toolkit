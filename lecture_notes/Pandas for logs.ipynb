{
 "cells": [
  {
   "cell_type": "code",
   "execution_count": 10,
   "metadata": {
    "collapsed": true
   },
   "outputs": [],
   "source": [
    "import numpy as np\n",
    "import pandas as pd\n",
    "from datetime import time\n",
    "from pandas.io.json import json_normalize"
   ]
  },
  {
   "cell_type": "code",
   "execution_count": 66,
   "metadata": {
    "collapsed": false
   },
   "outputs": [
    {
     "name": "stdout",
     "output_type": "stream",
     "text": [
      "<table border=\"1\" class=\"dataframe\">\n",
      "  <thead>\n",
      "    <tr style=\"text-align: right;\">\n",
      "      <th></th>\n",
      "    </tr>\n",
      "  </thead>\n",
      "  <tbody>\n",
      "  </tbody>\n",
      "</table>\n"
     ]
    }
   ],
   "source": [
    "# s = '[{\"time_sent\":1435919011291,\"session\":\"257900109630779643094869576778694561004\",\"utterance\":\"Hello\",\"user\":\"human\",\"time\":1435919011.314195}]'\n",
    "s = '[{\"time_sent\":1435919011291 ,\"session\":\"257900109630779643094869576778694561004\"}]' #,\"utterance\":\"Hello\",\"user\":\"human\",\"time\":1435919011.314195}]'\n",
    "d = [{\"time_sent\":1435919011291 ,\"session\":\"257900109630779643094869576778694561004\"}]\n",
    "\n",
    "df = pd.DataFrame()\n",
    "df.from_dict(d)\n",
    "print df.to_html()\n",
    "\n",
    "# df = pd.read_json(s)  # does not work - see bug https://github.com/pydata/pandas/issues/7583\n",
    "# print df.to_json()\n",
    "# df = df[['session']].astype(str)\n",
    "# print df.to_json()"
   ]
  },
  {
   "cell_type": "code",
   "execution_count": 68,
   "metadata": {
    "collapsed": false
   },
   "outputs": [
    {
     "data": {
      "text/html": [
       "<div style=\"max-height:1000px;max-width:1500px;overflow:auto;\">\n",
       "<table border=\"1\" class=\"dataframe\">\n",
       "  <thead>\n",
       "    <tr style=\"text-align: right;\">\n",
       "      <th></th>\n",
       "      <th>session</th>\n",
       "      <th>time</th>\n",
       "      <th>user</th>\n",
       "      <th>utterance</th>\n",
       "    </tr>\n",
       "  </thead>\n",
       "  <tbody>\n",
       "    <tr>\n",
       "      <th>0</th>\n",
       "      <td> 74334584770885835864461976223362907531</td>\n",
       "      <td> 1.436181e+09</td>\n",
       "      <td>   human</td>\n",
       "      <td> Hello</td>\n",
       "    </tr>\n",
       "    <tr>\n",
       "      <th>1</th>\n",
       "      <td> 74334584770885835864461976223362907531</td>\n",
       "      <td> 1.436181e+09</td>\n",
       "      <td> ChatBot</td>\n",
       "      <td>   Hi!</td>\n",
       "    </tr>\n",
       "  </tbody>\n",
       "</table>\n",
       "</div>"
      ],
      "text/plain": [
       "                                  session          time     user utterance\n",
       "0  74334584770885835864461976223362907531  1.436181e+09    human     Hello\n",
       "1  74334584770885835864461976223362907531  1.436181e+09  ChatBot       Hi!"
      ]
     },
     "execution_count": 68,
     "metadata": {},
     "output_type": "execute_result"
    }
   ],
   "source": [
    "import json\n",
    "filename = '/Users/ondrejplatek/code/cleverobot/cbot/logs/1436181471.17_74334584770885835864461976223362907531_input_output.log'\n",
    "log_lines = []\n",
    "with open(filename, 'r') as r:\n",
    "    for line in r:\n",
    "        log_lines.append(json.loads(line))\n",
    "df = pd.DataFrame()\n",
    "df.from_dict(log_lines)\n",
    "    "
   ]
  },
  {
   "cell_type": "code",
   "execution_count": 69,
   "metadata": {
    "collapsed": false
   },
   "outputs": [
    {
     "name": "stdout",
     "output_type": "stream",
     "text": [
      "/Users/ondrejplatek/code/cleverobot/cbot/logs\r\n"
     ]
    }
   ],
   "source": [
    "!pwd"
   ]
  }
 ],
 "metadata": {
  "kernelspec": {
   "display_name": "Python 2",
   "language": "python",
   "name": "python2"
  },
  "language_info": {
   "codemirror_mode": {
    "name": "ipython",
    "version": 2
   },
   "file_extension": ".py",
   "mimetype": "text/x-python",
   "name": "python",
   "nbconvert_exporter": "python",
   "pygments_lexer": "ipython2",
   "version": "2.7.9"
  }
 },
 "nbformat": 4,
 "nbformat_minor": 0
}
